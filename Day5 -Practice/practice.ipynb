{
 "cells": [
  {
   "cell_type": "markdown",
   "metadata": {},
   "source": [
    "## Question #8\n",
    "\n",
    "Write a `sumList()` function that has a `num` parameter. The num parameter contains a list of integer numbers. The function must return all the triplets `[nums[i], nums[j], nums[k]]` such that `i != j`, `i != k`, and `j != k`, and `nums[i] + nums[j] + nums[k] == 0`. **Notice that the solution set must not contain duplicate triplets.** Your solution is correct if the following input & output conditions are similar:\n",
    "\n",
    "```python\n",
    "# input\n",
    "num = [-1, 0, 1, -2, -1, 2, -4]\n",
    "sumList(num)\n",
    "\n",
    "# output \n",
    "[-2, 0, 2], [-1, -1, 2], [-1, 0, 1]\n",
    "```"
   ]
  },
  {
   "cell_type": "code",
   "execution_count": 23,
   "metadata": {},
   "outputs": [
    {
     "data": {
      "text/plain": [
       "[[-2, 0, 2], [-1, -1, 2], [-1, 0, 1]]"
      ]
     },
     "execution_count": 23,
     "metadata": {},
     "output_type": "execute_result"
    }
   ],
   "source": [
    "def sumList(num):\n",
    "    list=[]\n",
    "\n",
    "    for i in range(len(num)):\n",
    "        for j in range(len(num)):\n",
    "            for k in range(len(num)):\n",
    "                sum = num[i] + num[j] + num[k]\n",
    "                if sum == 0 and i != j and i != k and j != k:\n",
    "                    triplet=sorted([num[i], num[j],num[k]])\n",
    "                    if triplet not in list:\n",
    "                        list.insert(0, triplet)\n",
    "    return list\n",
    "\n",
    "num = [-1, 0, 1, -2, -1, 2, -4]\n",
    "sumList(num) "
   ]
  }
 ],
 "metadata": {
  "kernelspec": {
   "display_name": "base",
   "language": "python",
   "name": "python3"
  },
  "language_info": {
   "codemirror_mode": {
    "name": "ipython",
    "version": 3
   },
   "file_extension": ".py",
   "mimetype": "text/x-python",
   "name": "python",
   "nbconvert_exporter": "python",
   "pygments_lexer": "ipython3",
   "version": "3.10.9"
  },
  "orig_nbformat": 4
 },
 "nbformat": 4,
 "nbformat_minor": 2
}
