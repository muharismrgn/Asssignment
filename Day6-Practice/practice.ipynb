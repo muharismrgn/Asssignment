{
 "cells": [
  {
   "cell_type": "markdown",
   "metadata": {},
   "source": [
    "## Question #6\n",
    "\n",
    "The mode is the number that appears most frequently in a list of numbers. Together with the median and average, you can get a descriptive summary of a list of numbers. This exercise tests your ability to use a dictionary to keep a count of the numbers in a list to find the most frequent number. Write a `modeValue()` function that has a numbers parameter. This function returns the mode, or most frequently appearing number, of the list of integer and floating-point numbers passed to the function. Your solution is correct if the following assert statements’ conditions are all True:\n",
    "\n",
    "```python\n",
    "assert modeValue([]) == None\n",
    "assert modeValue([1, 2, 3, 4, 4]) == 4\n",
    "assert modeValue([1, 1, 2, 3, 4]) == 1\n",
    "assert modeValue([1.5, 1.4, 2.1, 3.3, 4.9]) == None\n",
    "```"
   ]
  },
  {
   "cell_type": "code",
   "execution_count": 8,
   "metadata": {},
   "outputs": [],
   "source": [
    "def modeValue(nums):\n",
    "    modeVal = 0\n",
    "\n",
    "    freq_nums={}\n",
    "\n",
    "    # mengubah list menjadi dict\n",
    "    for num in nums:\n",
    "        if num in freq_nums:\n",
    "            freq_nums[num] += 1\n",
    "        else :\n",
    "            freq_nums[num] = 1\n",
    "\n",
    "    # jika nilai value sama semua atau nums kosong\n",
    "    setValues = set(freq_nums.values()) # mengubah dict value ke set. jika value sama semua, set akan mengembalikan 1 item saja\n",
    "    if len(setValues) == 1 or nums == []: # ketika panjang set hanya satu artinya tidak ada modus karena semua value sama\n",
    "        return None\n",
    "    else:\n",
    "        # mencari nilai maximum dict value \n",
    "        for key, val in freq_nums.items():\n",
    "            if val > modeVal:\n",
    "                modeVal = key\n",
    "        return modeVal\n",
    "\n",
    "assert modeValue([]) == None\n",
    "assert modeValue([1, 2, 3, 4, 4]) == 4\n",
    "assert modeValue([1, 1, 2, 3, 4]) == 1\n",
    "assert modeValue([1.5, 1.4, 2.1, 3.3, 4.9]) == None"
   ]
  },
  {
   "cell_type": "markdown",
   "metadata": {},
   "source": [
    "## Question #7\n",
    "\n",
    "Given a string `text` which contains lower alphabetic characters. Write a `checkBalance()` function to remove at most one character from this string in such a way that frequency of each distinct character becomes same in the string. Your solution is correct if the following assert statements’ conditions are all True:\n",
    "\n",
    "```python\n",
    "assert checkBalance('aa') == 'Yes'\n",
    "assert checkBalance('aabbb') == 'Yes'\n",
    "assert checkBalance('aabbbccc') == 'No'\n",
    "assert checkBalance('aabbbcccc') == 'No'\n",
    "```"
   ]
  },
  {
   "cell_type": "code",
   "execution_count": 7,
   "metadata": {},
   "outputs": [],
   "source": [
    "def checkBalance(text):\n",
    "    char_freq={}\n",
    "    \n",
    "    # mengubah string menjadi dict\n",
    "    for char in text:\n",
    "        if char in char_freq:\n",
    "            char_freq[char] += 1\n",
    "        else :\n",
    "            char_freq[char] = 1\n",
    "    \n",
    "    # menghitung frekuensi karakter\n",
    "    freqs = list(char_freq.values())\n",
    "    freqs.sort()\n",
    "    # print(freqs)\n",
    "\n",
    "    # kondisi jika set sama dengan satu yang artinya semua frekuensi sama\n",
    "    if len(set(freqs)) == 1:\n",
    "        return 'Yes'\n",
    "    # kondisi frekuensi[0] yang memiliki frekuensi terendah nilainya 1 dengan kondisi frekuensi ke-2 sampai akhir memiliki frekuensi yang sama\n",
    "    elif freqs[0] == 1 and len(set(freqs[1:])) == 1:\n",
    "        return 'Yes'\n",
    "    # kondisi frekuensi 2 terakhir memiliki perbedaan frekuensi hanya satu dengan kondisi frekuensi sebelumnya memiliki frekuensi yang sama\n",
    "    elif freqs[-1] - 1 == freqs[-2] and len(set(freqs[:-1])) == 1:\n",
    "        return 'Yes'\n",
    "    \n",
    "    return 'No'\n",
    "\n",
    "assert checkBalance('aa') == 'Yes'\n",
    "assert checkBalance('aabbb') == 'Yes'\n",
    "assert checkBalance('aabbbccc') == 'No'\n",
    "assert checkBalance('aabbbcccc') == 'No'"
   ]
  }
 ],
 "metadata": {
  "kernelspec": {
   "display_name": "base",
   "language": "python",
   "name": "python3"
  },
  "language_info": {
   "codemirror_mode": {
    "name": "ipython",
    "version": 3
   },
   "file_extension": ".py",
   "mimetype": "text/x-python",
   "name": "python",
   "nbconvert_exporter": "python",
   "pygments_lexer": "ipython3",
   "version": "3.10.9"
  },
  "orig_nbformat": 4
 },
 "nbformat": 4,
 "nbformat_minor": 2
}
