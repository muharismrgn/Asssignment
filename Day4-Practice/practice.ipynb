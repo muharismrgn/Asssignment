{
 "cells": [
  {
   "cell_type": "markdown",
   "metadata": {},
   "source": [
    "## Question #7\n",
    "\n",
    "You can represent a date with three integers for the year, month, and day, but this doesn’t mean that any integers represent a valid date. After all, there is no 13th month of the year or 32nd day of any month. This exercise has you check if a year/month/day combination is valid, given that different months have different numbers of days. Write an`isValidDate()` function with parameters year, month, and day. The function should return True if the integers provided for these parameters represent a valid date. Otherwise, the function returns False. Your solution is correct if the following assert statements’ conditions are all True:\n",
    "\n",
    "```python\n",
    "assert isValidDate(2001, 2, 29) == False\n",
    "assert isValidDate(2029, 13, 1) == False\n",
    "assert isValidDate(1000000, 1, 1) == True\n",
    "assert isValidDate(2015, 4, 31) == False\n",
    "```"
   ]
  },
  {
   "cell_type": "code",
   "execution_count": 1,
   "metadata": {},
   "outputs": [],
   "source": [
    "#fungsi untuk mengecek leap year\n",
    "def isLeapYear(year):\n",
    "    if year % 400 == 0:\n",
    "        return True\n",
    "    elif year % 100 == 0:\n",
    "        return False\n",
    "    elif year % 4 == 0:\n",
    "        return True\n",
    "    else:\n",
    "        return False\n",
    "\n",
    "def isValidDate(year, month, date):\n",
    "    if month == 2: #ketika bulan februari maka cek apakah leap year atau tidak\n",
    "        if isLeapYear(year) and 1 <= date <= 29: #jika leap year maka nilai tanggal diantara 1 - 29\n",
    "            return True\n",
    "        elif not isLeapYear(year) and 1 <= date <= 28: #jika tidak leap year maka nilai tanggal hanya diantara 1 - 28\n",
    "            return True\n",
    "    elif month in [4, 6, 9, 11] and 1 <= date <= 30 : #ketika bulan-bulan yang memiliki tanggal hingga 30\n",
    "        return True\n",
    "    elif month in [1, 3, 5, 7, 8, 10, 12] and 1 <= date <= 31 : #ketika bulan-bulan yang memiliki tanggal hingga 31\n",
    "        return True\n",
    "    \n",
    "    return False\n",
    "\n",
    "assert isValidDate(2001, 2, 29) == False\n",
    "assert isValidDate(2029, 13, 1) == False\n",
    "assert isValidDate(1000000, 1, 1) == True\n",
    "assert isValidDate(2015, 4, 31) == False"
   ]
  },
  {
   "cell_type": "markdown",
   "metadata": {},
   "source": [
    "## Question #8\n",
    "\n",
    "In the US and UK, the digits of numbers are grouped with commas every three digits. For example, the number 79033516 is written as 79,033,516 for readability. Write a `commaFormat()` function with a number parameter. The argument for this parameter can be an integer or floating-point number. Your function returns a string of this number with proper US/UK comma formatting. There is a comma after every third digit in the whole number part. There are no commas at all in the fractional part: The proper comma formatting of 1234.5678 is 1,234.5678 and not 1,234.567,8. Your solution is correct if the following assert statements’ conditions are all True:\n",
    "\n",
    "```python\n",
    "assert commaFormat(1) == '1'\n",
    "assert commaFormat(10) == '10'\n",
    "assert commaFormat(100) == '100'\n",
    "assert commaFormat(1000) == '1,000'\n",
    "assert commaFormat(10000) == '10,000'\n",
    "assert commaFormat(100000) == '100,000'\n",
    "assert commaFormat(1000000) == '1,000,000'\n",
    "assert commaFormat(1234567890) == '1,234,567,890'\n",
    "assert commaFormat(1000.123456) == '1,000.123456'\n",
    "```"
   ]
  },
  {
   "cell_type": "code",
   "execution_count": 2,
   "metadata": {},
   "outputs": [],
   "source": [
    "def commaFormat(num):\n",
    "    s = str(num) #konversi ke string\n",
    "    result=[] #variabel list kosong untuk menyimpan hasil\n",
    "    decimal = None #untuk menyimpan desimal\n",
    "\n",
    "    #cek apakah panjang string lebih dari 3 atau tidak\n",
    "    if len(s) > 3:\n",
    "        #jika panjang s lebih dari 3 cek dahulu apakah ada bil desimal(.)\n",
    "        if '.' in s: #jika terdapat desimal(.)\n",
    "            s, decimal = s.split(\".\") #split antara bilangan bulat didepan titik(.) dan desimalnya. Misal 1234000.567 maka s = 1234000; decimal = 567\n",
    "            \n",
    "        while len(s) > 0: #looping ketika s masih tersisa\n",
    "            result.insert(0, s[-3:]) #menyimpan 3 karakter terakhir pada s ke result sehingga result =['000'], result =['234','000'], result =['1','234','000']\n",
    "            s = s[:-3] #mengupdate karakter baru pada s dari karakter awal hingga 3 terakhir. Misal dari s = 1234000 menjadi s = 1234 menjadi s = 1 hingga s = non\n",
    "\n",
    "        if decimal :  #ketika terdapat desimal\n",
    "            return ','.join(result) + '.' + decimal #mengembalikan hasil dari list result yang digabungkan dengan koma(,) dan memanggil kembali bilangan desimal serta titik(.) didepannya\n",
    "        else : \n",
    "            return ','.join(result) #mengembalikan hasil dari list result yang digabungkan dengan koma(,) tanpa desimal\n",
    "    else :\n",
    "        return s #mengembalikan string jika tidak lebih dari 3\n",
    "\n",
    "assert commaFormat(1) == '1'\n",
    "assert commaFormat(10) == '10'\n",
    "assert commaFormat(100) == '100'\n",
    "assert commaFormat(1000) == '1,000'\n",
    "assert commaFormat(10000) == '10,000'\n",
    "assert commaFormat(100000) == '100,000'\n",
    "assert commaFormat(1000000) == '1,000,000'\n",
    "assert commaFormat(1234567890) == '1,234,567,890'\n",
    "assert commaFormat(1000.123456) == '1,000.123456'"
   ]
  }
 ],
 "metadata": {
  "kernelspec": {
   "display_name": "base",
   "language": "python",
   "name": "python3"
  },
  "language_info": {
   "codemirror_mode": {
    "name": "ipython",
    "version": 3
   },
   "file_extension": ".py",
   "mimetype": "text/x-python",
   "name": "python",
   "nbconvert_exporter": "python",
   "pygments_lexer": "ipython3",
   "version": "3.10.9"
  },
  "orig_nbformat": 4
 },
 "nbformat": 4,
 "nbformat_minor": 2
}
